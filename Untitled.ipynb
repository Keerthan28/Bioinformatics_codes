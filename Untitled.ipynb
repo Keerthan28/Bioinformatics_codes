{
 "cells": [
  {
   "cell_type": "code",
   "execution_count": 1,
   "metadata": {},
   "outputs": [
    {
     "name": "stdout",
     "output_type": "stream",
     "text": [
      "Usage: python3 Neighborhood.py pattern d\n"
     ]
    },
    {
     "ename": "ValueError",
     "evalue": "invalid literal for int() with base 10: '/home/keerthan/.local/share/jupyter/runtime/kernel-61f0f396-160d-474a-aab4-8307bc8d3f2e.json'",
     "output_type": "error",
     "traceback": [
      "\u001b[0;31m---------------------------------------------------------------------------\u001b[0m",
      "\u001b[0;31mValueError\u001b[0m                                Traceback (most recent call last)",
      "\u001b[0;32m<ipython-input-1-7d147f5e2777>\u001b[0m in \u001b[0;36m<module>\u001b[0;34m\u001b[0m\n\u001b[1;32m     86\u001b[0m \u001b[0;34m\u001b[0m\u001b[0m\n\u001b[1;32m     87\u001b[0m \u001b[0;32mif\u001b[0m \u001b[0m__name__\u001b[0m \u001b[0;34m==\u001b[0m \u001b[0;34m\"__main__\"\u001b[0m\u001b[0;34m:\u001b[0m\u001b[0;34m\u001b[0m\u001b[0;34m\u001b[0m\u001b[0m\n\u001b[0;32m---> 88\u001b[0;31m     \u001b[0mmain\u001b[0m\u001b[0;34m(\u001b[0m\u001b[0;34m)\u001b[0m\u001b[0;34m\u001b[0m\u001b[0;34m\u001b[0m\u001b[0m\n\u001b[0m",
      "\u001b[0;32m<ipython-input-1-7d147f5e2777>\u001b[0m in \u001b[0;36mmain\u001b[0;34m()\u001b[0m\n\u001b[1;32m     35\u001b[0m \u001b[0;34m\u001b[0m\u001b[0m\n\u001b[1;32m     36\u001b[0m     \u001b[0mpattern\u001b[0m \u001b[0;34m=\u001b[0m \u001b[0msys\u001b[0m\u001b[0;34m.\u001b[0m\u001b[0margv\u001b[0m\u001b[0;34m[\u001b[0m\u001b[0;36m1\u001b[0m\u001b[0;34m]\u001b[0m\u001b[0;34m\u001b[0m\u001b[0;34m\u001b[0m\u001b[0m\n\u001b[0;32m---> 37\u001b[0;31m     \u001b[0md\u001b[0m \u001b[0;34m=\u001b[0m \u001b[0mint\u001b[0m\u001b[0;34m(\u001b[0m\u001b[0msys\u001b[0m\u001b[0;34m.\u001b[0m\u001b[0margv\u001b[0m\u001b[0;34m[\u001b[0m\u001b[0;36m2\u001b[0m\u001b[0;34m]\u001b[0m\u001b[0;34m)\u001b[0m\u001b[0;34m\u001b[0m\u001b[0;34m\u001b[0m\u001b[0m\n\u001b[0m\u001b[1;32m     38\u001b[0m     \u001b[0mprint\u001b[0m\u001b[0;34m(\u001b[0m\u001b[0;34m' '\u001b[0m\u001b[0;34m)\u001b[0m\u001b[0;34m\u001b[0m\u001b[0;34m\u001b[0m\u001b[0m\n\u001b[1;32m     39\u001b[0m     \u001b[0mprint\u001b[0m\u001b[0;34m(\u001b[0m\u001b[0;34m'pattern is: %s'\u001b[0m \u001b[0;34m%\u001b[0m \u001b[0;34m(\u001b[0m\u001b[0mpattern\u001b[0m\u001b[0;34m)\u001b[0m\u001b[0;34m)\u001b[0m\u001b[0;34m\u001b[0m\u001b[0;34m\u001b[0m\u001b[0m\n",
      "\u001b[0;31mValueError\u001b[0m: invalid literal for int() with base 10: '/home/keerthan/.local/share/jupyter/runtime/kernel-61f0f396-160d-474a-aab4-8307bc8d3f2e.json'"
     ]
    }
   ],
   "source": [
    "import sys\n",
    "import argparse\n",
    "\n",
    "# possible arrangements of length k\n",
    "from itertools import product\n",
    "def arrangements(k):\n",
    "    result = product('ACGT', repeat = k)\n",
    "    result = map(list, result)\n",
    "    words = []\n",
    "    for item in result:\n",
    "        word = ''\n",
    "        for letter in item:\n",
    "            word += letter\n",
    "        words.append(word)\n",
    "    return(words)\n",
    "\n",
    "# Hamming distance\n",
    "def HammingDistance(p, q):\n",
    "    dist = 0\n",
    "    if len(p) != len(q):\n",
    "        return('strings have unequal length!')\n",
    "    else:\n",
    "        for i in range(len(p)):\n",
    "            if p[i] != q[i]:\n",
    "                dist += 1\n",
    "        return(dist)\n",
    "\n",
    "# Generate the Neighborhood of a String\n",
    "def main():\n",
    "\n",
    "    #check number of arguments\n",
    "    if len(sys.argv) != 2:\n",
    "        print('Usage: python3 Neighborhood.py pattern d')\n",
    "        sys.exit\n",
    "\n",
    "    pattern = sys.argv[1]\n",
    "    d = int(sys.argv[2])\n",
    "    print(' ')\n",
    "    print('pattern is: %s' % (pattern))\n",
    "    print('maximum hamming distance is: %d' %(d))\n",
    "    print(' ')\n",
    "\n",
    "    def Neighbors(pattern, d):\n",
    "        print('performing fucntion with: %s' %(pattern))\n",
    "        if d == 0:\n",
    "            return(pattern)\n",
    "        if len(pattern) == 1:\n",
    "            return('A, C, G, T')\n",
    "        else:\n",
    "\n",
    "            #obtain suffix\n",
    "            suffix = pattern[1:len(pattern)]\n",
    "            prefix = pattern[0]\n",
    "\n",
    "            # recursive algorithm (repeat function for each suffix)\n",
    "            suffixNeighbors = Neighbors(suffix, d)\n",
    "\n",
    "            # eligible neighbors\n",
    "            neighborsList = arrangements(len(suffix))\n",
    "            eligibleList = []\n",
    "            for neighbor in neighborsList:\n",
    "                hamming = HammingDistance(suffix, neighbor)\n",
    "                if hamming <= d and neighbor not in eligibleList:\n",
    "                    eligibleList.append(neighbor)\n",
    "\n",
    "            # concatenate prefix to eligible neighbors of suffix\n",
    "            finalList = []\n",
    "            for item in eligibleList:\n",
    "                newItem = prefix + item\n",
    "                if newItem not in finalList:\n",
    "                    finalList.append(newItem)\n",
    "\n",
    "            # concatenate A, C, T, G to suffix itself\n",
    "            nucleotides = ['A', 'C', 'G', 'T']\n",
    "            for nucleotide in nucleotides:\n",
    "                newItem = nucleotide + suffix\n",
    "                if newItem not in finalList:\n",
    "                    finalList.append(newItem)\n",
    "\n",
    "        finalList = ' '.join(str(item) for item in finalList)\n",
    "        return(finalList)\n",
    "\n",
    "    result = Neighbors(pattern, d)\n",
    "    print(result)\n",
    "    print(' ')\n",
    "\n",
    "if __name__ == \"__main__\":\n",
    "    main()"
   ]
  },
  {
   "cell_type": "code",
   "execution_count": null,
   "metadata": {},
   "outputs": [],
   "source": []
  }
 ],
 "metadata": {
  "kernelspec": {
   "display_name": "Python 3",
   "language": "python",
   "name": "python3"
  },
  "language_info": {
   "codemirror_mode": {
    "name": "ipython",
    "version": 3
   },
   "file_extension": ".py",
   "mimetype": "text/x-python",
   "name": "python",
   "nbconvert_exporter": "python",
   "pygments_lexer": "ipython3",
   "version": "3.6.8"
  }
 },
 "nbformat": 4,
 "nbformat_minor": 2
}
